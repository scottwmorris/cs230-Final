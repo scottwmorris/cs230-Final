{
 "cells": [
  {
   "cell_type": "code",
   "execution_count": 1,
   "metadata": {},
   "outputs": [],
   "source": [
    "import tensorflow as tf\n",
    "import math\n",
    "import numpy as np\n",
    "import matplotlib.pyplot as plt\n",
    "\n",
    "%matplotlib inline"
   ]
  },
  {
   "cell_type": "code",
   "execution_count": 2,
   "metadata": {},
   "outputs": [],
   "source": [
    "def one_hot_matrix(labels, C):\n",
    "    \"\"\"\n",
    "    Creates a matrix where the i-th row corresponds to the ith class number and the jth column\n",
    "                     corresponds to the jth training example. So if example j had a label i. Then entry (i,j) \n",
    "                     will be 1. \n",
    "                     \n",
    "    Arguments:\n",
    "    labels -- vector containing the labels \n",
    "    C -- number of classes, the depth of the one hot dimension\n",
    "    \n",
    "    Returns: \n",
    "    one_hot -- one hot matrix\n",
    "    \"\"\"\n",
    "    \n",
    "    ### START CODE HERE ###\n",
    "    \n",
    "    # Create a tf.constant equal to C (depth), name it 'C'. (approx. 1 line)\n",
    "    C = tf.constant(C, name=\"C\")\n",
    "    \n",
    "    # Use tf.one_hot, be careful with the axis (approx. 1 line)\n",
    "    one_hot_matrix = tf.one_hot(labels, depth=C, axis=0)\n",
    "    \n",
    "    # Create the session (approx. 1 line)\n",
    "    sess = tf.Session()\n",
    "    \n",
    "    # Run the session (approx. 1 line)\n",
    "    one_hot = sess.run(one_hot_matrix)\n",
    "    \n",
    "    # Close the session (approx. 1 line). See method 1 above.\n",
    "    sess.close()\n",
    "    \n",
    "    ### END CODE HERE ###\n",
    "    \n",
    "    return one_hot"
   ]
  },
  {
   "cell_type": "code",
   "execution_count": 3,
   "metadata": {},
   "outputs": [],
   "source": [
    "def create_placeholders(n_x, n_y):\n",
    "    \"\"\"\n",
    "    Creates the placeholders for the tensorflow session.\n",
    "    \n",
    "    Arguments:\n",
    "    n_x -- scalar, size of an image vector (num_px * num_px = 64 * 64 * 3 = 12288)\n",
    "    n_y -- scalar, number of classes (from 0 to 5, so -> 6)\n",
    "    \n",
    "    Returns:\n",
    "    X -- placeholder for the data input, of shape [n_x, None] and dtype \"float\"\n",
    "    Y -- placeholder for the input labels, of shape [n_y, None] and dtype \"float\"\n",
    "    \n",
    "    Tips:\n",
    "    - You will use None because it let's us be flexible on the number of examples you will for the placeholders.\n",
    "      In fact, the number of examples during test/train is different.\n",
    "    \"\"\"\n",
    "\n",
    "    ### START CODE HERE ### (approx. 2 lines)\n",
    "    X = tf.placeholder(tf.float32, [n_x, None], name=\"X\")\n",
    "    Y = tf.placeholder(tf.float32, [n_y, None], name=\"Y\")\n",
    "    ### END CODE HERE ###\n",
    "    \n",
    "    return X, Y"
   ]
  },
  {
   "cell_type": "code",
   "execution_count": 4,
   "metadata": {},
   "outputs": [],
   "source": [
    "def initialize_parameters():\n",
    "    parameters = {}\n",
    "    parameters['W1'] = tf.get_variable(\"W1\", [25,370], initializer = tf.contrib.layers.xavier_initializer(seed = 1))\n",
    "    parameters['b1'] = tf.get_variable(\"b1\", [25,1], initializer = tf.zeros_initializer())\n",
    "    parameters['W2'] = tf.get_variable(\"W2\", [12,25], initializer = tf.contrib.layers.xavier_initializer(seed = 1))\n",
    "    parameters['b2'] = tf.get_variable(\"b2\", [12,1], initializer = tf.zeros_initializer())\n",
    "    parameters['W3'] = tf.get_variable(\"W3\", [1,12], initializer = tf.contrib.layers.xavier_initializer(seed = 1))\n",
    "    parameters['b3'] = tf.get_variable(\"b3\", [1,1], initializer = tf.zeros_initializer())    \n",
    "    return parameters"
   ]
  },
  {
   "cell_type": "code",
   "execution_count": 5,
   "metadata": {},
   "outputs": [],
   "source": [
    "def forward_propagation(X, parameters):\n",
    "    Z1 = tf.add(tf.matmul(parameters['W1'], X), parameters['b1'])       # Z1 = np.dot(W1, X) + b1\n",
    "    A1 = tf.nn.relu(Z1)                 # A1 = relu(Z1)\n",
    "    Z2 = tf.add(tf.matmul(parameters['W2'], A1), parameters['b2'])  # Z2 = np.dot(W2, a1) + b2\n",
    "    A2 = tf.nn.relu(Z2)                 # A2 = relu(Z2)\n",
    "    Z3 = tf.add(tf.matmul(parameters['W3'], A2), parameters['b3'])  # Z3 = np.dot(W3,Z2) + b3\n",
    "    return Z3"
   ]
  },
  {
   "cell_type": "code",
   "execution_count": 6,
   "metadata": {},
   "outputs": [],
   "source": [
    "# Before reduce mean need to multiply labels by whatever weighting factor we want\n",
    "# same effect as having more 1 examples\n",
    "\n",
    "def compute_cost(Z3, Y, wt):\n",
    "    logits = tf.transpose(Z3)\n",
    "    labels = tf.transpose(Y)\n",
    "    cost = tf.reduce_mean(tf.nn.weighted_cross_entropy_with_logits(targets = labels, logits = logits, pos_weight = wt))\n",
    "    return cost"
   ]
  },
  {
   "cell_type": "code",
   "execution_count": 7,
   "metadata": {},
   "outputs": [],
   "source": [
    "def random_minibatches(X_train, Y_train, minibatch_size, num_minibatches, seed):\n",
    "    np.random.seed(seed)\n",
    "    indices = np.arange(X_train.shape[1])\n",
    "    np.random.shuffle(indices)\n",
    "    \n",
    "    result = []\n",
    "    for idx in range(num_minibatches):\n",
    "        batch_X = np.zeros((X_train.shape[0], minibatch_size))\n",
    "        batch_Y = np.zeros((Y_train.shape[0], minibatch_size))\n",
    "        for batch_idx in range(minibatch_size):\n",
    "            shuffled_idx = indices[idx * minibatch_size + batch_idx]\n",
    "            batch_X[:, batch_idx] = X_train[:, shuffled_idx]\n",
    "            batch_Y[:, batch_idx] = Y_train[:, shuffled_idx]\n",
    "        result.append((batch_X, batch_Y))\n",
    "    return result"
   ]
  },
  {
   "cell_type": "code",
   "execution_count": 8,
   "metadata": {},
   "outputs": [],
   "source": [
    "def model(X_train, Y_train, X_dev, Y_dev, learning_rate = 0.0001,\n",
    "          num_epochs = 10, minibatch_size = 32, print_cost = True, pos_weight = 1):\n",
    "\n",
    "    X, Y = create_placeholders(X_train.shape[0], Y_train.shape[0])\n",
    "    m = X_train.shape[1]\n",
    "    seed = 12345\n",
    "    parameters = initialize_parameters()\n",
    "    Z3 = forward_propagation(X, parameters)\n",
    "    cost = compute_cost(Z3, Y, pos_weight)\n",
    "    optimizer = tf.train.AdamOptimizer(learning_rate = learning_rate).minimize(cost)\n",
    "    init = tf.global_variables_initializer()\n",
    "    with tf.Session() as sess:\n",
    "        sess.run(init)\n",
    "        for epoch in range(num_epochs):\n",
    "            print \"At epoch\", epoch\n",
    "            epoch_cost = 0.                       # Defines a cost related to an epoch\n",
    "            num_minibatches = int(m / minibatch_size) # number of minibatches of size minibatch_size in the train set\n",
    "            seed = seed + 1\n",
    "            minibatches = random_minibatches(X_train, Y_train, minibatch_size, num_minibatches, seed)\n",
    "            for minibatch in minibatches:\n",
    "                (minibatch_X, minibatch_Y) = minibatch\n",
    "                _ , minibatch_cost = sess.run([optimizer, cost], feed_dict={X: minibatch_X, Y: minibatch_Y})\n",
    "                epoch_cost += minibatch_cost / num_minibatches\n",
    "        parameters = sess.run(parameters)\n",
    "        \n",
    "        # Can change this to be AUC, precision, recall or whatever else we want\n",
    "        correct_prediction = tf.equal(tf.round(tf.sigmoid(forward_propagation(X, parameters))), Y)\n",
    "        accuracy = tf.reduce_mean(tf.cast(correct_prediction, \"float\"))\n",
    "\n",
    "        print (\"Train Accuracy:\", accuracy.eval({X: X_train, Y: Y_train}))\n",
    "        print (\"Test Accuracy:\", accuracy.eval({X: X_dev, Y: Y_dev}))\n",
    "        \n",
    "        return parameters"
   ]
  },
  {
   "cell_type": "code",
   "execution_count": 9,
   "metadata": {},
   "outputs": [
    {
     "name": "stderr",
     "output_type": "stream",
     "text": [
      "/Applications/anaconda2/lib/python2.7/site-packages/h5py/__init__.py:36: FutureWarning: Conversion of the second argument of issubdtype from `float` to `np.floating` is deprecated. In future, it will be treated as `np.float64 == np.dtype(float).type`.\n",
      "  from ._conv import register_converters as _register_converters\n"
     ]
    },
    {
     "name": "stdout",
     "output_type": "stream",
     "text": [
      "At epoch 0\n",
      "At epoch 1\n",
      "At epoch 2\n",
      "At epoch 3\n",
      "At epoch 4\n",
      "At epoch 5\n",
      "At epoch 6\n",
      "At epoch 7\n",
      "At epoch 8\n",
      "At epoch 9\n",
      "('Train Accuracy:', 0.94874704)\n",
      "('Test Accuracy:', 0.94580376)\n"
     ]
    }
   ],
   "source": [
    "# Load Training Data\n",
    "training_data = np.load(\"Train_Set.npy\")\n",
    "dev_data = np.load(\"Dev_Set.npy\")\n",
    "\n",
    "# Separate data into features and labels\n",
    "num_feats = training_data.shape[1]\n",
    "training_feats = training_data[:, 0:num_feats-1]\n",
    "training_labels = training_data[:, num_feats-1]\n",
    "training_labels = np.reshape(training_labels, (training_labels.shape[0],1))\n",
    "dev_feats = dev_data[:, 0:num_feats-1]\n",
    "dev_labels = dev_data[:, num_feats-1]\n",
    "dev_labels = np.reshape(dev_labels, (dev_labels.shape[0],1))\n",
    "\n",
    "#print (num_feats)\n",
    "#print (training_feats.shape)\n",
    "\n",
    "X_train = np.transpose(training_feats)\n",
    "X_dev = np.transpose(dev_feats)\n",
    "\n",
    "# Apply pos_ex_const to training examples\n",
    "Y_train = np.transpose(training_labels)\n",
    "Y_dev = np.transpose(dev_labels)\n",
    "\n",
    "#print (training_feats.shape)\n",
    "#print (training_labels.shape)\n",
    "#print (Y_train.shape)\n",
    "#print (Y_train)\n",
    "\n",
    "# 5 appears to be the optimal weighting\n",
    "parameters = model(X_train, Y_train, X_dev, Y_dev, pos_weight = 5)"
   ]
  },
  {
   "cell_type": "code",
   "execution_count": null,
   "metadata": {},
   "outputs": [],
   "source": []
  }
 ],
 "metadata": {
  "kernelspec": {
   "display_name": "Python 2",
   "language": "python",
   "name": "python2"
  },
  "language_info": {
   "codemirror_mode": {
    "name": "ipython",
    "version": 2
   },
   "file_extension": ".py",
   "mimetype": "text/x-python",
   "name": "python",
   "nbconvert_exporter": "python",
   "pygments_lexer": "ipython2",
   "version": "2.7.15"
  }
 },
 "nbformat": 4,
 "nbformat_minor": 2
}
